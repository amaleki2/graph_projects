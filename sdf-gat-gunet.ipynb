{
 "cells": [
  {
   "cell_type": "code",
   "execution_count": 1,
   "metadata": {},
   "outputs": [],
   "source": [
    "import torch.nn as nn\n",
    "from src import (train_sdf, get_sdf_data_loader, \n",
    "                 EncodeProcessDecode, EncodeProcessDecodeNEW, \n",
    "                 GatUNet, GatUNet2, \n",
    "                 borderless_loss, clamped_loss, deep_mind_loss)"
   ]
  },
  {
   "cell_type": "code",
   "execution_count": 5,
   "metadata": {},
   "outputs": [
    {
     "name": "stdout",
     "output_type": "stream",
     "text": [
      "preparing sdf data loader\n"
     ]
    }
   ],
   "source": [
    "# get data\n",
    "n_objects = 100\n",
    "data_folder = \"C:/Users/amaleki/OneDrive - ANSYS, Inc/Projects/mesh_gen/mesh_sdf/mesh/\"\n",
    "batch_size = 6\n",
    "edge_method = 'edge' # or 'proximity'\n",
    "edge_params = {'radius': 0.05}\n",
    "train_data, test_data = get_sdf_data_loader(n_objects, data_folder, batch_size, eval_frac=0.2,\n",
    "                                            edge_method=edge_method, edge_params=edge_params)"
   ]
  },
  {
   "cell_type": "code",
   "execution_count": 6,
   "metadata": {},
   "outputs": [],
   "source": [
    "# choose model\n",
    "in_channels, hidden_channels, out_channels = 3, [32, 64, 128, 64, 32], 1\n",
    "model = GatUNet2(in_channels, hidden_channels, out_channels)"
   ]
  },
  {
   "cell_type": "code",
   "execution_count": 8,
   "metadata": {},
   "outputs": [],
   "source": [
    "# choose loss functions; see src/loss.py for details of parameters \n",
    "loss_funcs = [borderless_loss, clamped_loss]\n",
    "losses_params = {\"loss_func\": nn.L1Loss, \"radius\": 0.1, \"maxv\": 0.05}"
   ]
  },
  {
   "cell_type": "code",
   "execution_count": null,
   "metadata": {},
   "outputs": [
    {
     "name": "stdout",
     "output_type": "stream",
     "text": [
      "epoch    0: learning rate=1.00e-03, train loss: ['0.0670', '0.0370'], test loss: ['0.0502', '0.0340']\n"
     ]
    }
   ],
   "source": [
    "# train\n",
    "gamma       = 0.5\n",
    "lr_0        = 0.001\n",
    "n_epoch     = 500\n",
    "step_size   = 250\n",
    "print_every = 25\n",
    "save_name   = \"gat_unet\"\n",
    "train_sdf(model, train_data, test_data, loss_funcs, n_epoch=n_epoch, print_every=print_every, use_cpu=True,\n",
    "          save_name=save_name, lr_0=lr_0, step_size=step_size, gamma=gamma, **losses_params)"
   ]
  },
  {
   "cell_type": "code",
   "execution_count": null,
   "metadata": {},
   "outputs": [],
   "source": []
  }
 ],
 "metadata": {
  "kernelspec": {
   "display_name": "Python 3",
   "language": "python",
   "name": "python3"
  },
  "language_info": {
   "codemirror_mode": {
    "name": "ipython",
    "version": 3
   },
   "file_extension": ".py",
   "mimetype": "text/x-python",
   "name": "python",
   "nbconvert_exporter": "python",
   "pygments_lexer": "ipython3",
   "version": "3.8.5"
  }
 },
 "nbformat": 4,
 "nbformat_minor": 4
}
