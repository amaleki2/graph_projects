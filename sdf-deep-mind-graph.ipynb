{
 "cells": [
  {
   "cell_type": "code",
   "execution_count": null,
   "metadata": {},
   "outputs": [],
   "source": [
    "import torch.nn as nn\n",
    "from src import (train_sdf, get_sdf_data_loader, deep_mind_loss, plot_sdf_results, plot_sdf_results_over_line,\n",
    "                 EncodeProcessDecode, EncodeProcessDecodeNEW, GraphNetworkIndependentBlock, GraphNetworkBlock)"
   ]
  },
  {
   "cell_type": "code",
   "execution_count": null,
   "metadata": {},
   "outputs": [],
   "source": [
    "# get data\n",
    "n_objects = 600\n",
    "data_folder = \"../mesh/\"\n",
    "batch_size = 5\n",
    "edge_method = 'edge' # or 'proximity'\n",
    "edge_params = {'radius': 0.05}\n",
    "train_data, test_data = get_sdf_data_loader(n_objects, data_folder, batch_size, eval_frac=0.1,\n",
    "                                            edge_method=edge_method, edge_params=edge_params)"
   ]
  },
  {
   "cell_type": "code",
   "execution_count": null,
   "metadata": {},
   "outputs": [],
   "source": [
    "n_edge_feat_in, n_edge_feat_out = 5, 1\n",
    "n_node_feat_in, n_node_feat_out = 3, 1\n",
    "n_global_feat_in, n_global_feat_out = 3, 3\n",
    "mlp_latent_size = 64\n",
    "num_processing_steps = 5\n",
    "model = EncodeProcessDecodeNEW(n_edge_feat_in=n_edge_feat_in, n_edge_feat_out=n_edge_feat_out,\n",
    "                               n_node_feat_in=n_node_feat_in, n_node_feat_out=n_node_feat_out,\n",
    "                               n_global_feat_in=n_global_feat_in, n_global_feat_out=n_global_feat_out,\n",
    "                               mlp_latent_size=mlp_latent_size, num_processing_steps=num_processing_steps,\n",
    "                               encoder=GraphNetworkIndependentBlock, decoder=GraphNetworkIndependentBlock,\n",
    "                               processor=GraphNetworkBlock, output_transformer=GraphNetworkIndependentBlock,\n",
    "                               full_output=True\n",
    "                               )"
   ]
  },
  {
   "cell_type": "code",
   "execution_count": null,
   "metadata": {},
   "outputs": [],
   "source": [
    "# train parameters\n",
    "gamma       = 0.25\n",
    "lr_0        = 0.001\n",
    "n_epoch     = 1500\n",
    "step_size   = 500\n",
    "print_every = 25\n",
    "save_name   = \"deep_mind_graph_\" + edge_method + \"_nn_\" + str(mlp_latent_size) + \"_nlayers_\" + str(num_processing_steps)"
   ]
  },
  {
   "cell_type": "code",
   "execution_count": null,
   "metadata": {},
   "outputs": [],
   "source": [
    "# loss function and train\n",
    "loss_funcs = [deep_mind_loss]\n",
    "train_sdf(model, train_data, test_data, loss_funcs, n_epoch=n_epoch, print_every=print_every,\n",
    "          save_name=save_name, lr_0=lr_0, step_size=step_size, gamma=gamma)"
   ]
  },
  {
   "cell_type": "code",
   "execution_count": null,
   "metadata": {},
   "outputs": [],
   "source": [
    "# visualization\n",
    "data_loader, _ = get_sdf_data_loader(10, data_folder, 1, eval_frac=0, edge_method=edge_method, edge_params=edge_params)\n",
    "output_func = lambda x: x[-1][1].numpy().reshape(-1)\n",
    "plot_sdf_results(model, data_loader, save_name=save_name, output_func=output_func, levels=None)#[-0.1, 0., 0.1])"
   ]
  },
  {
   "cell_type": "code",
   "execution_count": null,
   "metadata": {},
   "outputs": [],
   "source": []
  }
 ],
 "metadata": {
  "kernelspec": {
   "display_name": "Python 3",
   "language": "python",
   "name": "python3"
  },
  "language_info": {
   "codemirror_mode": {
    "name": "ipython",
    "version": 3
   },
   "file_extension": ".py",
   "mimetype": "text/x-python",
   "name": "python",
   "nbconvert_exporter": "python",
   "pygments_lexer": "ipython3",
   "version": "3.7.7"
  }
 },
 "nbformat": 4,
 "nbformat_minor": 4
}
