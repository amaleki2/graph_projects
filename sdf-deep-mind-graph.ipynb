{
 "cells": [
  {
   "cell_type": "code",
   "execution_count": 4,
   "metadata": {},
   "outputs": [],
   "source": [
    "import torch.nn as nn\n",
    "from src import (train_sdf, get_sdf_data_loader, deep_mind_loss,\n",
    "                 EncodeProcessDecode, EncodeProcessDecodeNEW, GraphNetworkIndependentBlock, GraphNetworkBlock)"
   ]
  },
  {
   "cell_type": "code",
   "execution_count": 5,
   "metadata": {},
   "outputs": [
    {
     "name": "stdout",
     "output_type": "stream",
     "text": [
      "preparing sdf data loader\n"
     ]
    }
   ],
   "source": [
    "# get data\n",
    "n_objects = 100\n",
    "data_folder = \"C:/Users/amaleki/OneDrive - ANSYS, Inc/Projects/mesh_gen/mesh_sdf/mesh/\"\n",
    "batch_size = 6\n",
    "edge_method = 'edge' # or 'proximity'\n",
    "edge_params = {'radius': 0.05}\n",
    "train_data, test_data = get_sdf_data_loader(n_objects, data_folder, batch_size, eval_frac=0.2,\n",
    "                                            edge_method=edge_method, edge_params=edge_params)"
   ]
  },
  {
   "cell_type": "code",
   "execution_count": 7,
   "metadata": {},
   "outputs": [],
   "source": [
    "n_edge_feat_in, n_edge_feat_out = 5, 1\n",
    "n_node_feat_in, n_node_feat_out = 3, 1\n",
    "n_global_feat_in, n_global_feat_out = 3, 3\n",
    "mlp_latent_size = 32\n",
    "num_processing_steps = 10\n",
    "model = EncodeProcessDecodeNEW(n_edge_feat_in=n_edge_feat_in, n_edge_feat_out=n_edge_feat_out,\n",
    "                               n_node_feat_in=n_node_feat_in, n_node_feat_out=n_node_feat_out,\n",
    "                               n_global_feat_in=n_global_feat_in, n_global_feat_out=n_global_feat_out,\n",
    "                               mlp_latent_size=mlp_latent_size, num_processing_steps=num_processing_steps,\n",
    "                               encoder=GraphNetworkIndependentBlock, decoder=GraphNetworkIndependentBlock,\n",
    "                               processor=GraphNetworkBlock, output_transformer=GraphNetworkIndependentBlock,\n",
    "                               full_output=True\n",
    "                               )"
   ]
  },
  {
   "cell_type": "code",
   "execution_count": 8,
   "metadata": {},
   "outputs": [],
   "source": [
    "loss_funcs = [deep_mind_loss]"
   ]
  },
  {
   "cell_type": "code",
   "execution_count": null,
   "metadata": {},
   "outputs": [
    {
     "name": "stdout",
     "output_type": "stream",
     "text": [
      "epoch    0: learning rate=1.00e-03, train loss: ['0.0670', '0.0370'], test loss: ['0.0502', '0.0340']\n"
     ]
    }
   ],
   "source": [
    "# train\n",
    "gamma       = 0.5\n",
    "lr_0        = 0.001\n",
    "n_epoch     = 500\n",
    "step_size   = 250\n",
    "print_every = 25\n",
    "save_name   = \"deep_mind_graph_\" + edge_method + \"_nn_\" + str(mlp_latent_size) + \"_nlayers_\" + str(mlp_latent_size)\n",
    "train_sdf(model, train_data, train_data, loss_funcs, n_epoch=n_epoch, print_every=print_every,\n",
    "          save_name=save_name, lr_0=lr_0, step_size=step_size, gamma=gamma)"
   ]
  },
  {
   "cell_type": "code",
   "execution_count": null,
   "metadata": {},
   "outputs": [],
   "source": []
  }
 ],
 "metadata": {
  "kernelspec": {
   "display_name": "Python 3",
   "language": "python",
   "name": "python3"
  },
  "language_info": {
   "codemirror_mode": {
    "name": "ipython",
    "version": 3
   },
   "file_extension": ".py",
   "mimetype": "text/x-python",
   "name": "python",
   "nbconvert_exporter": "python",
   "pygments_lexer": "ipython3",
   "version": "3.8.5"
  }
 },
 "nbformat": 4,
 "nbformat_minor": 4
}
